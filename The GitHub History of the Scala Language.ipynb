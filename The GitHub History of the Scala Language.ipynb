{
 "cells": [
  {
   "cell_type": "markdown",
   "id": "4064f273-a857-404b-b1f7-7ccf45be2b06",
   "metadata": {
    "dc": {
     "key": "5"
    },
    "run_control": {
     "frozen": true
    },
    "tags": [
     "context"
    ]
   },
   "source": [
    "## 1. Scala's real-world project repository data\n",
    "<p>With almost 30k commits and a history spanning over ten years, Scala is a mature programming language. It is a general-purpose programming language that has recently become another prominent language for data scientists.</p>\n",
    "<p>Scala is also an open source project. Open source projects have the advantage that their entire development histories -- who made changes, what was changed, code reviews, etc. -- are publicly available. </p>\n",
    "<p>We're going to read in, clean up, and visualize the real world project repository of Scala that spans data from a version control system (Git) as well as a project hosting site (GitHub). We will find out who has had the most influence on its development and who are the experts.</p>\n",
    "<p>The dataset we will use, which has been previously mined and extracted from GitHub, is comprised of three files:</p>\n",
    "<ol>\n",
    "<li><code>pulls_2011-2013.csv</code> contains the basic information about the pull requests, and spans from the end of 2011 up to (but not including) 2014.</li>\n",
    "<li><code>pulls_2014-2018.csv</code> contains identical information, and spans from 2014 up to 2018.</li>\n",
    "<li><code>pull_files.csv</code> contains the files that were modified by each pull request.</li>\n",
    "</ol>"
   ]
  },
  {
   "cell_type": "code",
   "execution_count": 1,
   "id": "5edaaa1e-1d40-424f-b67c-c8d301cd29d5",
   "metadata": {
    "dc": {
     "key": "5"
    },
    "executionCancelledAt": null,
    "executionTime": 231,
    "lastExecutedAt": 1690039745788,
    "lastScheduledRunId": null,
    "lastSuccessfullyExecutedCode": "# Importing pandas\nimport pandas as pd\n# ... YOUR CODE FOR TASK 1 ...\n\n# Loading in the data\npulls_one = pd.read_csv('datasets/pulls_2011-2013.csv')\npulls_two = pd.read_csv('datasets/pulls_2014-2018.csv')\npull_files = pd.read_csv('datasets/pull_files.csv')\n\nprint(pulls_one.head())\nprint(pulls_two.head())\nprint(pull_files.head())\nprint(pulls_one.shape)\nprint(pulls_two.shape)\nprint(pull_files.shape)",
    "outputsMetadata": {
     "0": {
      "height": 426,
      "type": "stream"
     }
    },
    "tags": [
     "sample_code"
    ]
   },
   "outputs": [
    {
     "name": "stdout",
     "output_type": "stream",
     "text": [
      "        pid         user                  date\n",
      "0  11166973  VladimirNik  2013-12-31T23:10:55Z\n",
      "1  11161892      Ichoran  2013-12-31T16:55:47Z\n",
      "2  11153894      Ichoran  2013-12-31T02:41:13Z\n",
      "3  11151917      rklaehn  2013-12-30T23:45:47Z\n",
      "4  11131244        qerub  2013-12-29T17:21:01Z\n",
      "         pid       user                  date\n",
      "0  163314316     hrhino  2018-01-16T23:29:16Z\n",
      "1  163061502   joroKr21  2018-01-15T23:44:52Z\n",
      "2  163057333  mkeskells  2018-01-15T23:05:06Z\n",
      "3  162985594      lrytz  2018-01-15T15:52:39Z\n",
      "4  162838837  zuvizudar  2018-01-14T19:16:16Z\n",
      "         pid                                   file\n",
      "0  163314316        test/files/pos/t5638/Among.java\n",
      "1  163314316       test/files/pos/t5638/Usage.scala\n",
      "2  163314316             test/files/pos/t9291.scala\n",
      "3  163314316             test/files/run/t8348.check\n",
      "4  163314316  test/files/run/t8348/TableColumn.java\n",
      "(3296, 3)\n",
      "(2904, 3)\n",
      "(85588, 2)\n"
     ]
    }
   ],
   "source": [
    "# Importing pandas\n",
    "import pandas as pd\n",
    "\n",
    "# Loading in the data\n",
    "pulls_one = pd.read_csv('datasets/pulls_2011-2013.csv')\n",
    "pulls_two = pd.read_csv('datasets/pulls_2014-2018.csv')\n",
    "pull_files = pd.read_csv('datasets/pull_files.csv')\n",
    "\n",
    "print(pulls_one.head())\n",
    "print(pulls_two.head())\n",
    "print(pull_files.head())\n",
    "print(pulls_one.shape)\n",
    "print(pulls_two.shape)\n",
    "print(pull_files.shape)"
   ]
  },
  {
   "cell_type": "markdown",
   "id": "4563a315-a8ac-4599-8c3e-9e4101aed612",
   "metadata": {
    "dc": {
     "key": "12"
    },
    "run_control": {
     "frozen": true
    },
    "tags": [
     "context"
    ]
   },
   "source": [
    "## 2. Preparing and cleaning the data\n",
    "<p>First, we will need to combine the data from the two separate pull DataFrames. </p>\n",
    "<p>Next, the raw data extracted from GitHub contains dates in the ISO8601 format. However, <code>pandas</code> imports them as regular strings. To make our analysis easier, we need to convert the strings into Python's <code>DateTime</code> objects. <code>DateTime</code> objects have the important property that they can be compared and sorted.</p>\n",
    "<p>The pull request times are all in UTC (also known as Coordinated Universal Time). The commit times, however, are in the local time of the author with time zone information (number of hours difference from UTC). To make comparisons easy, we should convert all times to UTC.</p>"
   ]
  },
  {
   "cell_type": "code",
   "execution_count": 2,
   "id": "7467e20e-29f9-416f-a94a-dc04db33a1c9",
   "metadata": {
    "dc": {
     "key": "12"
    },
    "executionCancelledAt": null,
    "executionTime": 62,
    "lastExecutedAt": 1690039745850,
    "lastScheduledRunId": null,
    "lastSuccessfullyExecutedCode": "# Append pulls_one to pulls_two\npulls = pulls_one.append(pulls_two, ignore_index=True)\nprint(pulls.head())\n# Convert the date for the pulls object\npulls[\"date\"] = pd.to_datetime(pulls[\"date\"],utc=True)\nprint(pulls.head())",
    "outputsMetadata": {
     "0": {
      "height": 250,
      "type": "stream"
     }
    },
    "tags": [
     "sample_code"
    ]
   },
   "outputs": [
    {
     "name": "stdout",
     "output_type": "stream",
     "text": [
      "        pid         user                  date\n",
      "0  11166973  VladimirNik  2013-12-31T23:10:55Z\n",
      "1  11161892      Ichoran  2013-12-31T16:55:47Z\n",
      "2  11153894      Ichoran  2013-12-31T02:41:13Z\n",
      "3  11151917      rklaehn  2013-12-30T23:45:47Z\n",
      "4  11131244        qerub  2013-12-29T17:21:01Z\n",
      "        pid         user                      date\n",
      "0  11166973  VladimirNik 2013-12-31 23:10:55+00:00\n",
      "1  11161892      Ichoran 2013-12-31 16:55:47+00:00\n",
      "2  11153894      Ichoran 2013-12-31 02:41:13+00:00\n",
      "3  11151917      rklaehn 2013-12-30 23:45:47+00:00\n",
      "4  11131244        qerub 2013-12-29 17:21:01+00:00\n"
     ]
    }
   ],
   "source": [
    "# Append pulls_one to pulls_two\n",
    "pulls = pulls_one.append(pulls_two, ignore_index=True)\n",
    "print(pulls.head())\n",
    "\n",
    "# Convert the date for the pulls object\n",
    "pulls[\"date\"] = pd.to_datetime(pulls[\"date\"],utc=True)\n",
    "print(pulls.head())"
   ]
  },
  {
   "cell_type": "markdown",
   "id": "768e4d9e-9ebe-4caa-8d17-bb4a08c54014",
   "metadata": {
    "dc": {
     "key": "19"
    },
    "run_control": {
     "frozen": true
    },
    "tags": [
     "context"
    ]
   },
   "source": [
    "## 3. Merging the DataFrames\n",
    "<p>The data extracted comes in two separate files. Merging the two DataFrames will make it easier for us to analyze the data in the future tasks.</p>"
   ]
  },
  {
   "cell_type": "code",
   "execution_count": 3,
   "id": "3e07abb7-264b-44a9-a548-5ee52566c0b3",
   "metadata": {
    "dc": {
     "key": "19"
    },
    "executionCancelledAt": null,
    "executionTime": 51,
    "lastExecutedAt": 1690039745901,
    "lastScheduledRunId": null,
    "lastSuccessfullyExecutedCode": "# Merge the two DataFrames\ndata = pulls.merge(pull_files, on='pid')\nprint(data.head())",
    "outputsMetadata": {
     "0": {
      "height": 133,
      "type": "stream"
     }
    },
    "tags": [
     "sample_code"
    ]
   },
   "outputs": [
    {
     "name": "stdout",
     "output_type": "stream",
     "text": [
      "        pid         user                      date  \\\n",
      "0  11166973  VladimirNik 2013-12-31 23:10:55+00:00   \n",
      "1  11166973  VladimirNik 2013-12-31 23:10:55+00:00   \n",
      "2  11166973  VladimirNik 2013-12-31 23:10:55+00:00   \n",
      "3  11166973  VladimirNik 2013-12-31 23:10:55+00:00   \n",
      "4  11161892      Ichoran 2013-12-31 16:55:47+00:00   \n",
      "\n",
      "                                                file  \n",
      "0       src/reflect/scala/reflect/api/Printers.scala  \n",
      "1  src/reflect/scala/reflect/internal/Printers.scala  \n",
      "2                    test/files/run/reify_ann3.check  \n",
      "3  test/junit/scala/reflect/internal/PrintersTest...  \n",
      "4  src/library/scala/collection/mutable/ArrayOps....  \n"
     ]
    }
   ],
   "source": [
    "# Merge the two DataFrames\n",
    "data = pulls.merge(pull_files, on='pid')\n",
    "print(data.head())"
   ]
  },
  {
   "cell_type": "markdown",
   "id": "46d7942a-547f-46dd-b7ab-1b7a60d47bff",
   "metadata": {
    "dc": {
     "key": "26"
    },
    "run_control": {
     "frozen": true
    },
    "tags": [
     "context"
    ]
   },
   "source": [
    "## 4. Is the project still actively maintained?\n",
    "<p>The activity in an open source project is not very consistent. Some projects might be active for many years after the initial release, while others can slowly taper out into oblivion. Before committing to contributing to a project, it is important to understand the state of the project. Is development going steadily, or is there a drop? Has the project been abandoned altogether?</p>\n",
    "<p>The data used in this project was collected in January of 2018. We are interested in the evolution of the number of contributions up to that date.</p>\n",
    "<p>For Scala, we will do this by plotting a chart of the project's activity. We will calculate the number of pull requests submitted each (calendar) month during the project's lifetime. We will then plot these numbers to see the trend of contributions.</p>\n",
    "<ul>\n",
    "<li><p>A helpful reminder of how to access various components of a date can be found in <a href=\"https://campus.datacamp.com/courses/data-manipulation-with-pandas/slicing-and-indexing?ex=12\">this exercise of Data Manipulation with pandas</a></p></li>\n",
    "<li><p>Additionally, recall that you can group by multiple variables by passing a list to <code>.groupby()</code>. This video from <a href=\"https://campus.datacamp.com/courses/data-manipulation-with-pandas/aggregating-dataframes?ex=9\">Data Manipulation with pandas</a> should help!</p></li>\n",
    "</ul>"
   ]
  },
  {
   "cell_type": "code",
   "execution_count": 8,
   "id": "b76c9378-28a0-46ee-9ad4-c23184452077",
   "metadata": {
    "dc": {
     "key": "26"
    },
    "executionCancelledAt": null,
    "executionTime": 3313,
    "lastExecutedAt": 1690039749214,
    "lastScheduledRunId": null,
    "lastSuccessfullyExecutedCode": "%matplotlib inline\n\n# Create a column that will store the month\ndata['month'] = data['date'].dt.month\n\n# Create a column that will store the year\ndata['year'] = data['date'].dt.year\n\n# Group by the month and year and count the pull requests\ncounts = data.groupby(['year','month'])['pid'].count()\n\n# Plot the results\ncounts.plot(kind='bar', figsize = (12,4))",
    "tags": [
     "sample_code"
    ]
   },
   "outputs": [
    {
     "data": {
      "text/plain": [
       "<Axes: xlabel='year,month'>"
      ]
     },
     "execution_count": 8,
     "metadata": {},
     "output_type": "execute_result"
    },
    {
     "data": {
      "image/png": "[encoded data removed]",
      "text/plain": [
       "<Figure size 1080x432 with 1 Axes>"
      ]
     },
     "metadata": {
      "needs_background": "light"
     },
     "output_type": "display_data"
    }
   ],
   "source": [
    "%matplotlib inline\n",
    "\n",
    "# Create a column that will store the month\n",
    "data['month'] = data['date'].dt.month\n",
    "\n",
    "# Create a column that will store the year\n",
    "data['year'] = data['date'].dt.year\n",
    "\n",
    "# Group by the month and year and count the pull requests\n",
    "counts = data.groupby(['year','month'])['pid'].count()\n",
    "\n",
    "# Plot the results\n",
    "counts.plot(kind='bar', figsize = (15,6))\n",
    "\n"
   ]
  },
  {
   "cell_type": "markdown",
   "id": "e62e8062-afcc-4178-91fe-1b172645feca",
   "metadata": {
    "dc": {
     "key": "33"
    },
    "run_control": {
     "frozen": true
    },
    "tags": [
     "context"
    ]
   },
   "source": [
    "## 5. Is there camaraderie in the project?\n",
    "<p>The organizational structure varies from one project to another, and it can influence your success as a contributor. A project that has a very small community might not be the best one to start working on. The small community might indicate a high barrier of entry. This can be caused by several factors, including a community that is reluctant to accept pull requests from \"outsiders,\" that the code base is hard to work with, etc. However, a large community can serve as an indicator that the project is regularly accepting pull requests from new contributors. Such a project would be a good place to start.</p>\n",
    "<p>In order to evaluate the dynamics of the community, we will plot a histogram of the number of pull requests submitted by each user. A distribution that shows that there are few people that only contribute a small number of pull requests can be used as in indicator that the project is not welcoming of new contributors. </p>"
   ]
  },
  {
   "cell_type": "code",
   "execution_count": 10,
   "id": "4ebbeb42-e680-4dea-9abc-061048b2546a",
   "metadata": {
    "dc": {
     "key": "33"
    },
    "executionCancelledAt": null,
    "executionTime": 171,
    "lastExecutedAt": 1690039749385,
    "lastScheduledRunId": null,
    "lastSuccessfullyExecutedCode": "# Required for matplotlib\n%matplotlib inline\n\n# Group by the submitter\nby_user = data.groupby('user')['pid'].count()\n\n# Plot the histogram\nby_user.plot(kind=\"hist\")\n# ... YOUR CODE FOR TASK 5 ...\n",
    "tags": [
     "sample_code"
    ]
   },
   "outputs": [
    {
     "data": {
      "text/plain": [
       "<Axes: ylabel='Frequency'>"
      ]
     },
     "execution_count": 10,
     "metadata": {},
     "output_type": "execute_result"
    },
    {
     "data": {
      "image/png": "[encoded data removed]",
      "text/plain": [
       "<Figure size 1080x432 with 1 Axes>"
      ]
     },
     "metadata": {
      "needs_background": "light"
     },
     "output_type": "display_data"
    }
   ],
   "source": [
    "# Required for matplotlib\n",
    "%matplotlib inline\n",
    "\n",
    "# Group by the submitter\n",
    "by_user = data.groupby('user')['pid'].count()\n",
    "\n",
    "# Plot the histogram\n",
    "by_user.plot(kind=\"hist\", figsize = (15,6))\n"
   ]
  },
  {
   "cell_type": "markdown",
   "id": "19cd1878-27db-4fda-af68-ee759b7c351e",
   "metadata": {
    "dc": {
     "key": "40"
    },
    "run_control": {
     "frozen": true
    },
    "tags": [
     "context"
    ]
   },
   "source": [
    "## 6. What files were changed in the last ten pull requests?\n",
    "<p>Choosing the right place to make a contribution is as important as choosing the project to contribute to. Some parts of the code might be stable, some might be dead. Contributing there might not have the most impact. Therefore it is important to understand the parts of the system that have been recently changed. This allows us to pinpoint the \"hot\" areas of the code where most of the activity is happening. Focusing on those parts might not the most effective use of our times.</p>"
   ]
  },
  {
   "cell_type": "code",
   "execution_count": 11,
   "id": "73bed311-142e-43ce-a9a1-5dde3aa95de6",
   "metadata": {
    "dc": {
     "key": "40"
    },
    "executionCancelledAt": null,
    "executionTime": 49,
    "lastExecutedAt": 1690039749434,
    "lastScheduledRunId": null,
    "lastSuccessfullyExecutedCode": "# Identify the last 10 pull requests\nlast_10 = pulls.nlargest(10,'date')\n\n# Join the two data sets\njoined_pr = pull_files.merge(last_10, on='pid')\n\n# Identify the unique files\nfiles = joined_pr['file'].unique()\n\n# Print the results\nfiles",
    "tags": [
     "sample_code"
    ]
   },
   "outputs": [
    {
     "data": {
      "text/plain": [
       "array(['test/files/pos/t5638/Among.java',\n",
       "       'test/files/pos/t5638/Usage.scala', 'test/files/pos/t9291.scala',\n",
       "       'test/files/run/t8348.check',\n",
       "       'test/files/run/t8348/TableColumn.java',\n",
       "       'test/files/run/t8348/TableColumnImpl.java',\n",
       "       'test/files/run/t8348/Test.scala',\n",
       "       'src/library/scala/concurrent/Lock.scala',\n",
       "       'src/compiler/scala/tools/nsc/profile/AsyncHelper.scala',\n",
       "       'src/compiler/scala/tools/nsc/profile/Profiler.scala',\n",
       "       'src/compiler/scala/tools/nsc/backend/jvm/BCodeHelpers.scala',\n",
       "       'src/compiler/scala/tools/nsc/symtab/classfile/ClassfileParser.scala',\n",
       "       'src/reflect/scala/reflect/internal/pickling/ByteCodecs.scala',\n",
       "       'src/compiler/scala/reflect/reify/phases/Calculate.scala',\n",
       "       'src/library/scala/Predef.scala',\n",
       "       'test/files/neg/leibniz-liskov.check',\n",
       "       'test/files/neg/leibniz-liskov.scala',\n",
       "       'test/files/pos/leibniz-liskov.scala',\n",
       "       'test/files/pos/leibniz_liskov.scala',\n",
       "       'src/compiler/scala/tools/nsc/typechecker/Contexts.scala',\n",
       "       'test/files/pos/parallel-classloader.scala',\n",
       "       'test/files/pos/t10568/Converter.java',\n",
       "       'test/files/pos/t10568/Impl.scala',\n",
       "       'src/compiler/scala/tools/nsc/backend/jvm/PostProcessor.scala',\n",
       "       'src/compiler/scala/tools/nsc/backend/jvm/analysis/BackendUtils.scala',\n",
       "       'LICENSE', 'doc/LICENSE.md', 'doc/License.rtf',\n",
       "       'project/VersionUtil.scala',\n",
       "       'src/library/scala/util/Properties.scala',\n",
       "       'src/scaladoc/scala/tools/nsc/doc/html/page/Entity.scala',\n",
       "       'src/scalap/decoder.properties',\n",
       "       'src/reflect/scala/reflect/internal/tpe/GlbLubs.scala',\n",
       "       'test/files/pos/t10686.scala'], dtype=object)"
      ]
     },
     "execution_count": 11,
     "metadata": {},
     "output_type": "execute_result"
    }
   ],
   "source": [
    "# Identify the last 10 pull requests\n",
    "last_10 = pulls.nlargest(10,'date')\n",
    "\n",
    "# Join the two data sets\n",
    "joined_pr = pull_files.merge(last_10, on='pid')\n",
    "\n",
    "# Identify the unique files\n",
    "files = joined_pr['file'].unique()\n",
    "\n",
    "# Print the results\n",
    "files"
   ]
  },
  {
   "cell_type": "markdown",
   "id": "e60ca538-fd80-4249-848f-f5b36c8b6716",
   "metadata": {
    "dc": {
     "key": "47"
    },
    "run_control": {
     "frozen": true
    },
    "tags": [
     "context"
    ]
   },
   "source": [
    "## 7. Who made the most pull requests to a given file?\n",
    "<p>When contributing to a project, we might need some guidance. We might find ourselves needing some information regarding the codebase. It is important direct any questions to the right person. Contributors to open source projects generally have other day jobs, so their time is limited. It is important to address our questions to the right people. One way to identify the right target for our inquiries is by using their contribution history.</p>\n",
    "<p>We identified <code>src/compiler/scala/reflect/reify/phases/Calculate.scala</code> as being recently changed. We are interested in the top 3 developers who changed that file. Those developers are the ones most likely to have the best understanding of the code.</p>"
   ]
  },
  {
   "cell_type": "code",
   "execution_count": 12,
   "id": "a50fd60b-b87a-4f10-82fe-7fbb24fd7bf5",
   "metadata": {
    "dc": {
     "key": "47"
    },
    "executionCancelledAt": null,
    "executionTime": 47,
    "lastExecutedAt": 1690039749481,
    "lastScheduledRunId": null,
    "lastSuccessfullyExecutedCode": "# This is the file we are interested in:\nfile = 'src/compiler/scala/reflect/reify/phases/Calculate.scala'\n\n# Identify the commits that changed the file\nfile_pr = data[data[\"file\"] == file]\n\n# Count the number of changes made by each developer\nauthor_counts = file_pr.groupby('user').count()\n\n# Print the top 3 developers\nfile_pr.groupby('user')['pid'].count().sort_values(ascending=False)[0:3]\n# ... YOUR CODE FOR TASK 7 ...",
    "tags": [
     "sample_code"
    ]
   },
   "outputs": [
    {
     "data": {
      "text/plain": [
       "user\n",
       "xeno-by     11\n",
       "retronym     5\n",
       "soc          4\n",
       "Name: pid, dtype: int64"
      ]
     },
     "execution_count": 12,
     "metadata": {},
     "output_type": "execute_result"
    }
   ],
   "source": [
    "# This is the file we are interested in:\n",
    "file = 'src/compiler/scala/reflect/reify/phases/Calculate.scala'\n",
    "\n",
    "# Identify the commits that changed the file\n",
    "file_pr = data[data[\"file\"] == file]\n",
    "\n",
    "# Count the number of changes made by each developer\n",
    "author_counts = file_pr.groupby('user').count()\n",
    "\n",
    "# Print the top 3 developers\n",
    "file_pr.groupby('user')['pid'].count().sort_values(ascending=False)[0:3]\n"
   ]
  },
  {
   "cell_type": "markdown",
   "id": "54c367c2-9768-42b8-9f0e-de9646d7bb4d",
   "metadata": {
    "dc": {
     "key": "54"
    },
    "run_control": {
     "frozen": true
    },
    "tags": [
     "context"
    ]
   },
   "source": [
    "## 8. Who made the last ten pull requests on a given file?\n",
    "<p>Open source projects suffer from fluctuating membership. This makes the problem of finding the right person more challenging: the person has to be knowledgeable <em>and</em> still be involved in the project. A person that contributed a lot in the past might no longer be available (or willing) to help. To get a better understanding, we need to investigate the more recent history of that particular part of the system. </p>\n",
    "<p>Like in the previous task, we will look at the history of  <code>src/compiler/scala/reflect/reify/phases/Calculate.scala</code>.</p>"
   ]
  },
  {
   "cell_type": "code",
   "execution_count": 13,
   "id": "5271b34d-6984-4f66-91e5-22a05e623842",
   "metadata": {
    "dc": {
     "key": "54"
    },
    "executionCancelledAt": null,
    "executionTime": 56,
    "lastExecutedAt": 1690039749537,
    "lastScheduledRunId": null,
    "lastSuccessfullyExecutedCode": "file = 'src/compiler/scala/reflect/reify/phases/Calculate.scala'\n\n# Select the pull requests that changed the target file\nfile_pr = pull_files[pull_files[\"file\"] == file]\n\n# Merge the obtained results with the pulls DataFrame\njoined_pr = pulls.merge(file_pr, on=\"pid\")\n\n# Find the users of the last 10 most recent pull requests\nusers_last_10 = set(joined_pr.sort_values(\"date\", ascending=True).tail(10)[\"user\"])\n\n# Printing the results\nusers_last_10",
    "tags": [
     "sample_code"
    ]
   },
   "outputs": [
    {
     "data": {
      "text/plain": [
       "{'bjornregnell', 'retronym', 'soc', 'starblood', 'xeno-by', 'zuvizudar'}"
      ]
     },
     "execution_count": 13,
     "metadata": {},
     "output_type": "execute_result"
    }
   ],
   "source": [
    "file = 'src/compiler/scala/reflect/reify/phases/Calculate.scala'\n",
    "\n",
    "# Select the pull requests that changed the target file\n",
    "file_pr = pull_files[pull_files[\"file\"] == file]\n",
    "\n",
    "# Merge the obtained results with the pulls DataFrame\n",
    "joined_pr = pulls.merge(file_pr, on=\"pid\")\n",
    "\n",
    "# Find the users of the last 10 most recent pull requests\n",
    "users_last_10 = set(joined_pr.sort_values(\"date\", ascending=True).tail(10)[\"user\"])\n",
    "\n",
    "# Printing the results\n",
    "users_last_10"
   ]
  },
  {
   "cell_type": "markdown",
   "id": "ea42fd15-1b15-4e66-a734-3fd8fe5167be",
   "metadata": {
    "dc": {
     "key": "61"
    },
    "run_control": {
     "frozen": true
    },
    "tags": [
     "context"
    ]
   },
   "source": [
    "## 9. The pull requests of two special developers\n",
    "<p>Now that we have identified two potential contacts in the projects, we need to find the person who was most involved in the project in recent times. That person is most likely to answer our questions. For each calendar year, we are interested in understanding the number of pull requests the authors submitted. This will give us a high-level image of their contribution trend to the project.</p>"
   ]
  },
  {
   "cell_type": "code",
   "execution_count": 14,
   "id": "2d7062af-6edc-4634-933f-3db76eeed381",
   "metadata": {
    "dc": {
     "key": "61"
    },
    "executionCancelledAt": null,
    "executionTime": 255,
    "lastExecutedAt": 1690039749792,
    "lastScheduledRunId": null,
    "lastSuccessfullyExecutedCode": "%matplotlib inline\n\n# The developers we are interested in\nauthors = ['xeno-by', 'soc']\n\n# Get all the developers' pull requests\nby_author = pulls[pulls[\"user\"].isin(authors)]\n\n# Count the number of pull requests submitted each year\ncounts = by_author.groupby([by_author['user'], by_author['date'].dt.year]).agg({\"pid\": \"count\"}).reset_index()\n\n# Convert the table to a wide format\ncounts_wide = counts.pivot_table(index=\"date\", columns=\"user\", values=\"pid\", fill_value=0)\n\n# Plot the results\ncounts_wide.plot(kind=\"bar\", figsize = (12,6), color=[\"maroon\",\"silver\"])\n# ... YOUR CODE FOR TASK 9 ...",
    "tags": [
     "sample_code"
    ]
   },
   "outputs": [
    {
     "data": {
      "text/plain": [
       "<Axes: xlabel='date'>"
      ]
     },
     "execution_count": 14,
     "metadata": {},
     "output_type": "execute_result"
    },
    {
     "data": {
      "image/png": "[encoded data removed]",
      "text/plain": [
       "<Figure size 864x432 with 1 Axes>"
      ]
     },
     "metadata": {
      "needs_background": "light"
     },
     "output_type": "display_data"
    }
   ],
   "source": [
    "%matplotlib inline\n",
    "\n",
    "# The developers we are interested in\n",
    "authors = ['xeno-by', 'soc']\n",
    "\n",
    "# Get all the developers' pull requests\n",
    "by_author = pulls[pulls[\"user\"].isin(authors)]\n",
    "\n",
    "# Count the number of pull requests submitted each year\n",
    "counts = by_author.groupby([by_author['user'], by_author['date'].dt.year]).agg({\"pid\": \"count\"}).reset_index()\n",
    "\n",
    "# Convert the table to a wide format\n",
    "counts_wide = counts.pivot_table(index=\"date\", columns=\"user\", values=\"pid\", fill_value=0)\n",
    "\n",
    "# Plot the results\n",
    "counts_wide.plot(kind=\"bar\", figsize = (12,6), color=[\"maroon\",\"silver\"])"
   ]
  },
  {
   "cell_type": "markdown",
   "id": "d04894f4-f256-485c-91e9-f96379dac1e2",
   "metadata": {
    "dc": {
     "key": "68"
    },
    "run_control": {
     "frozen": true
    },
    "tags": [
     "context"
    ]
   },
   "source": [
    "## 10. Visualizing the contributions of each developer\n",
    "<p>As mentioned before, it is important to make a distinction between the global expertise and contribution levels and the contribution levels at a more granular level (file, submodule, etc.) In our case, we want to see which of our two developers of interest have the most experience with the code in a given file. We will measure experience by the number of pull requests submitted that affect that file and how recent those pull requests were submitted.</p>"
   ]
  },
  {
   "cell_type": "code",
   "execution_count": 15,
   "id": "9a59c879-e5bf-4e2a-802f-ddd790d227a3",
   "metadata": {
    "dc": {
     "key": "68"
    },
    "executionCancelledAt": null,
    "executionTime": 164,
    "lastExecutedAt": 1690039749957,
    "lastScheduledRunId": null,
    "lastSuccessfullyExecutedCode": "authors = ['xeno-by', 'soc']\nfile = 'src/compiler/scala/reflect/reify/phases/Calculate.scala'\n\n# Select the pull requests submitted by the authors, from the `data` DataFrame\nby_author = data[data[\"user\"].isin(authors)]\n\n# Select the pull requests that affect the file\nby_file =by_author[by_author[\"file\"] == file]\n\n# Group and count the number of PRs done by each user each year\ngrouped = by_file.groupby([\"user\", by_file[\"date\"].dt.year]).count()[\"pid\"].reset_index()\n\n# Transform the data into a wide format\nby_file_wide = grouped.pivot_table(index=\"date\", columns=\"user\", values=\"pid\", fill_value=0)\n\n# Plot the results\nby_file_wide.plot(kind=\"bar\", figsize = (12,6), color=[\"teal\",\"orange\"])",
    "tags": [
     "sample_code"
    ]
   },
   "outputs": [
    {
     "data": {
      "text/plain": [
       "<Axes: xlabel='date'>"
      ]
     },
     "execution_count": 15,
     "metadata": {},
     "output_type": "execute_result"
    },
    {
     "data": {
      "image/png": "[encoded data removed]",
      "text/plain": [
       "<Figure size 864x432 with 1 Axes>"
      ]
     },
     "metadata": {
      "needs_background": "light"
     },
     "output_type": "display_data"
    }
   ],
   "source": [
    "authors = ['xeno-by', 'soc']\n",
    "file = 'src/compiler/scala/reflect/reify/phases/Calculate.scala'\n",
    "\n",
    "# Select the pull requests submitted by the authors, from the `data` DataFrame\n",
    "by_author = data[data[\"user\"].isin(authors)]\n",
    "\n",
    "# Select the pull requests that affect the file\n",
    "by_file =by_author[by_author[\"file\"] == file]\n",
    "\n",
    "# Group and count the number of PRs done by each user each year\n",
    "grouped = by_file.groupby([\"user\", by_file[\"date\"].dt.year]).count()[\"pid\"].reset_index()\n",
    "\n",
    "# Transform the data into a wide format\n",
    "by_file_wide = grouped.pivot_table(index=\"date\", columns=\"user\", values=\"pid\", fill_value=0)\n",
    "\n",
    "# Plot the results\n",
    "by_file_wide.plot(kind=\"bar\", figsize = (12,6), color=[\"teal\",\"orange\"])"
   ]
  },
  {
   "cell_type": "code",
   "execution_count": null,
   "id": "e2befcc2",
   "metadata": {},
   "outputs": [],
   "source": []
  }
 ],
 "metadata": {
  "editor": "DataCamp Workspace",
  "kernelspec": {
   "display_name": "Python 3",
   "language": "python",
   "name": "python3"
  },
  "language_info": {
   "codemirror_mode": {
    "name": "ipython",
    "version": 3
   },
   "file_extension": ".py",
   "mimetype": "text/x-python",
   "name": "python",
   "nbconvert_exporter": "python",
   "pygments_lexer": "ipython3",
   "version": "3.8.8"
  }
 },
 "nbformat": 4,
 "nbformat_minor": 5
}
